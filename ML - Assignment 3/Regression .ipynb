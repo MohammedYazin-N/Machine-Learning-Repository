{
 "cells": [
  {
   "cell_type": "markdown",
   "id": "55666d4b-c3b5-49bb-8e1c-c24f526533e3",
   "metadata": {},
   "source": [
    "\n",
    "# REGRESSION\n",
    "## Objective:\n",
    "The objective of this assignment is to evaluate the  understanding of regression techniques in supervised learning by applying them to a real-world dataset.\n",
    "\n",
    "\n",
    "# California Housing Regression Assignment"
   ]
  },
  {
   "cell_type": "code",
   "execution_count": 2,
   "id": "b9d4ec4f-f744-4202-be68-ed322a917065",
   "metadata": {},
   "outputs": [],
   "source": [
    "import numpy as np \n",
    "import pandas as pd \n",
    "import matplotlib.pyplot as plt \n",
    "import seaborn as sns "
   ]
  },
  {
   "cell_type": "code",
   "execution_count": 3,
   "id": "ec353e62-bded-4ca0-b731-dddc35bcd98b",
   "metadata": {},
   "outputs": [
    {
     "data": {
      "text/plain": [
       "{'data': array([[   8.3252    ,   41.        ,    6.98412698, ...,    2.55555556,\n",
       "           37.88      , -122.23      ],\n",
       "        [   8.3014    ,   21.        ,    6.23813708, ...,    2.10984183,\n",
       "           37.86      , -122.22      ],\n",
       "        [   7.2574    ,   52.        ,    8.28813559, ...,    2.80225989,\n",
       "           37.85      , -122.24      ],\n",
       "        ...,\n",
       "        [   1.7       ,   17.        ,    5.20554273, ...,    2.3256351 ,\n",
       "           39.43      , -121.22      ],\n",
       "        [   1.8672    ,   18.        ,    5.32951289, ...,    2.12320917,\n",
       "           39.43      , -121.32      ],\n",
       "        [   2.3886    ,   16.        ,    5.25471698, ...,    2.61698113,\n",
       "           39.37      , -121.24      ]]),\n",
       " 'target': array([4.526, 3.585, 3.521, ..., 0.923, 0.847, 0.894]),\n",
       " 'frame': None,\n",
       " 'target_names': ['MedHouseVal'],\n",
       " 'feature_names': ['MedInc',\n",
       "  'HouseAge',\n",
       "  'AveRooms',\n",
       "  'AveBedrms',\n",
       "  'Population',\n",
       "  'AveOccup',\n",
       "  'Latitude',\n",
       "  'Longitude'],\n",
       " 'DESCR': '.. _california_housing_dataset:\\n\\nCalifornia Housing dataset\\n--------------------------\\n\\n**Data Set Characteristics:**\\n\\n:Number of Instances: 20640\\n\\n:Number of Attributes: 8 numeric, predictive attributes and the target\\n\\n:Attribute Information:\\n    - MedInc        median income in block group\\n    - HouseAge      median house age in block group\\n    - AveRooms      average number of rooms per household\\n    - AveBedrms     average number of bedrooms per household\\n    - Population    block group population\\n    - AveOccup      average number of household members\\n    - Latitude      block group latitude\\n    - Longitude     block group longitude\\n\\n:Missing Attribute Values: None\\n\\nThis dataset was obtained from the StatLib repository.\\nhttps://www.dcc.fc.up.pt/~ltorgo/Regression/cal_housing.html\\n\\nThe target variable is the median house value for California districts,\\nexpressed in hundreds of thousands of dollars ($100,000).\\n\\nThis dataset was derived from the 1990 U.S. census, using one row per census\\nblock group. A block group is the smallest geographical unit for which the U.S.\\nCensus Bureau publishes sample data (a block group typically has a population\\nof 600 to 3,000 people).\\n\\nA household is a group of people residing within a home. Since the average\\nnumber of rooms and bedrooms in this dataset are provided per household, these\\ncolumns may take surprisingly large values for block groups with few households\\nand many empty houses, such as vacation resorts.\\n\\nIt can be downloaded/loaded using the\\n:func:`sklearn.datasets.fetch_california_housing` function.\\n\\n.. rubric:: References\\n\\n- Pace, R. Kelley and Ronald Barry, Sparse Spatial Autoregressions,\\n  Statistics and Probability Letters, 33 (1997) 291-297\\n'}"
      ]
     },
     "execution_count": 3,
     "metadata": {},
     "output_type": "execute_result"
    }
   ],
   "source": [
    "## Loading the Dataset\n",
    "from sklearn.datasets import fetch_california_housing \n",
    "\n",
    "houses = fetch_california_housing()\n",
    "houses\n"
   ]
  },
  {
   "cell_type": "code",
   "execution_count": 9,
   "id": "f0b30a89-14f1-4fd7-b178-bafb38c36d67",
   "metadata": {},
   "outputs": [
    {
     "name": "stdout",
     "output_type": "stream",
     "text": [
      "[[   8.3252       41.            6.98412698 ...    2.55555556\n",
      "    37.88       -122.23      ]\n",
      " [   8.3014       21.            6.23813708 ...    2.10984183\n",
      "    37.86       -122.22      ]\n",
      " [   7.2574       52.            8.28813559 ...    2.80225989\n",
      "    37.85       -122.24      ]\n",
      " ...\n",
      " [   1.7          17.            5.20554273 ...    2.3256351\n",
      "    39.43       -121.22      ]\n",
      " [   1.8672       18.            5.32951289 ...    2.12320917\n",
      "    39.43       -121.32      ]\n",
      " [   2.3886       16.            5.25471698 ...    2.61698113\n",
      "    39.37       -121.24      ]]\n"
     ]
    }
   ],
   "source": [
    "print(houses.data)"
   ]
  },
  {
   "cell_type": "code",
   "execution_count": 13,
   "id": "b4c2b853-69d4-4622-bf09-bb2f6d9365fe",
   "metadata": {},
   "outputs": [
    {
     "name": "stdout",
     "output_type": "stream",
     "text": [
      "Features_Names =  ['MedInc', 'HouseAge', 'AveRooms', 'AveBedrms', 'Population', 'AveOccup', 'Latitude', 'Longitude']\n"
     ]
    }
   ],
   "source": [
    "## Dataset Information \n",
    "\n",
    "print(\"Features_Names = \",houses.feature_names)\n"
   ]
  },
  {
   "cell_type": "code",
   "execution_count": 14,
   "id": "017d997c-058b-4037-bdea-2c3afd05ee8b",
   "metadata": {},
   "outputs": [
    {
     "name": "stdout",
     "output_type": "stream",
     "text": [
      "target Column =  ['MedHouseVal']\n"
     ]
    }
   ],
   "source": [
    "print(\"target Column = \",houses.target_names)"
   ]
  },
  {
   "cell_type": "code",
   "execution_count": 17,
   "id": "84e89d71-994a-4351-a0e1-596140f27df7",
   "metadata": {},
   "outputs": [
    {
     "data": {
      "text/html": [
       "<div>\n",
       "<style scoped>\n",
       "    .dataframe tbody tr th:only-of-type {\n",
       "        vertical-align: middle;\n",
       "    }\n",
       "\n",
       "    .dataframe tbody tr th {\n",
       "        vertical-align: top;\n",
       "    }\n",
       "\n",
       "    .dataframe thead th {\n",
       "        text-align: right;\n",
       "    }\n",
       "</style>\n",
       "<table border=\"1\" class=\"dataframe\">\n",
       "  <thead>\n",
       "    <tr style=\"text-align: right;\">\n",
       "      <th></th>\n",
       "      <th>MedInc</th>\n",
       "      <th>HouseAge</th>\n",
       "      <th>AveRooms</th>\n",
       "      <th>AveBedrms</th>\n",
       "      <th>Population</th>\n",
       "      <th>AveOccup</th>\n",
       "      <th>Latitude</th>\n",
       "      <th>Longitude</th>\n",
       "    </tr>\n",
       "  </thead>\n",
       "  <tbody>\n",
       "    <tr>\n",
       "      <th>0</th>\n",
       "      <td>8.3252</td>\n",
       "      <td>41.0</td>\n",
       "      <td>6.984127</td>\n",
       "      <td>1.023810</td>\n",
       "      <td>322.0</td>\n",
       "      <td>2.555556</td>\n",
       "      <td>37.88</td>\n",
       "      <td>-122.23</td>\n",
       "    </tr>\n",
       "    <tr>\n",
       "      <th>1</th>\n",
       "      <td>8.3014</td>\n",
       "      <td>21.0</td>\n",
       "      <td>6.238137</td>\n",
       "      <td>0.971880</td>\n",
       "      <td>2401.0</td>\n",
       "      <td>2.109842</td>\n",
       "      <td>37.86</td>\n",
       "      <td>-122.22</td>\n",
       "    </tr>\n",
       "    <tr>\n",
       "      <th>2</th>\n",
       "      <td>7.2574</td>\n",
       "      <td>52.0</td>\n",
       "      <td>8.288136</td>\n",
       "      <td>1.073446</td>\n",
       "      <td>496.0</td>\n",
       "      <td>2.802260</td>\n",
       "      <td>37.85</td>\n",
       "      <td>-122.24</td>\n",
       "    </tr>\n",
       "    <tr>\n",
       "      <th>3</th>\n",
       "      <td>5.6431</td>\n",
       "      <td>52.0</td>\n",
       "      <td>5.817352</td>\n",
       "      <td>1.073059</td>\n",
       "      <td>558.0</td>\n",
       "      <td>2.547945</td>\n",
       "      <td>37.85</td>\n",
       "      <td>-122.25</td>\n",
       "    </tr>\n",
       "    <tr>\n",
       "      <th>4</th>\n",
       "      <td>3.8462</td>\n",
       "      <td>52.0</td>\n",
       "      <td>6.281853</td>\n",
       "      <td>1.081081</td>\n",
       "      <td>565.0</td>\n",
       "      <td>2.181467</td>\n",
       "      <td>37.85</td>\n",
       "      <td>-122.25</td>\n",
       "    </tr>\n",
       "    <tr>\n",
       "      <th>...</th>\n",
       "      <td>...</td>\n",
       "      <td>...</td>\n",
       "      <td>...</td>\n",
       "      <td>...</td>\n",
       "      <td>...</td>\n",
       "      <td>...</td>\n",
       "      <td>...</td>\n",
       "      <td>...</td>\n",
       "    </tr>\n",
       "    <tr>\n",
       "      <th>20635</th>\n",
       "      <td>1.5603</td>\n",
       "      <td>25.0</td>\n",
       "      <td>5.045455</td>\n",
       "      <td>1.133333</td>\n",
       "      <td>845.0</td>\n",
       "      <td>2.560606</td>\n",
       "      <td>39.48</td>\n",
       "      <td>-121.09</td>\n",
       "    </tr>\n",
       "    <tr>\n",
       "      <th>20636</th>\n",
       "      <td>2.5568</td>\n",
       "      <td>18.0</td>\n",
       "      <td>6.114035</td>\n",
       "      <td>1.315789</td>\n",
       "      <td>356.0</td>\n",
       "      <td>3.122807</td>\n",
       "      <td>39.49</td>\n",
       "      <td>-121.21</td>\n",
       "    </tr>\n",
       "    <tr>\n",
       "      <th>20637</th>\n",
       "      <td>1.7000</td>\n",
       "      <td>17.0</td>\n",
       "      <td>5.205543</td>\n",
       "      <td>1.120092</td>\n",
       "      <td>1007.0</td>\n",
       "      <td>2.325635</td>\n",
       "      <td>39.43</td>\n",
       "      <td>-121.22</td>\n",
       "    </tr>\n",
       "    <tr>\n",
       "      <th>20638</th>\n",
       "      <td>1.8672</td>\n",
       "      <td>18.0</td>\n",
       "      <td>5.329513</td>\n",
       "      <td>1.171920</td>\n",
       "      <td>741.0</td>\n",
       "      <td>2.123209</td>\n",
       "      <td>39.43</td>\n",
       "      <td>-121.32</td>\n",
       "    </tr>\n",
       "    <tr>\n",
       "      <th>20639</th>\n",
       "      <td>2.3886</td>\n",
       "      <td>16.0</td>\n",
       "      <td>5.254717</td>\n",
       "      <td>1.162264</td>\n",
       "      <td>1387.0</td>\n",
       "      <td>2.616981</td>\n",
       "      <td>39.37</td>\n",
       "      <td>-121.24</td>\n",
       "    </tr>\n",
       "  </tbody>\n",
       "</table>\n",
       "<p>20640 rows × 8 columns</p>\n",
       "</div>"
      ],
      "text/plain": [
       "       MedInc  HouseAge  AveRooms  AveBedrms  Population  AveOccup  Latitude  \\\n",
       "0      8.3252      41.0  6.984127   1.023810       322.0  2.555556     37.88   \n",
       "1      8.3014      21.0  6.238137   0.971880      2401.0  2.109842     37.86   \n",
       "2      7.2574      52.0  8.288136   1.073446       496.0  2.802260     37.85   \n",
       "3      5.6431      52.0  5.817352   1.073059       558.0  2.547945     37.85   \n",
       "4      3.8462      52.0  6.281853   1.081081       565.0  2.181467     37.85   \n",
       "...       ...       ...       ...        ...         ...       ...       ...   \n",
       "20635  1.5603      25.0  5.045455   1.133333       845.0  2.560606     39.48   \n",
       "20636  2.5568      18.0  6.114035   1.315789       356.0  3.122807     39.49   \n",
       "20637  1.7000      17.0  5.205543   1.120092      1007.0  2.325635     39.43   \n",
       "20638  1.8672      18.0  5.329513   1.171920       741.0  2.123209     39.43   \n",
       "20639  2.3886      16.0  5.254717   1.162264      1387.0  2.616981     39.37   \n",
       "\n",
       "       Longitude  \n",
       "0        -122.23  \n",
       "1        -122.22  \n",
       "2        -122.24  \n",
       "3        -122.25  \n",
       "4        -122.25  \n",
       "...          ...  \n",
       "20635    -121.09  \n",
       "20636    -121.21  \n",
       "20637    -121.22  \n",
       "20638    -121.32  \n",
       "20639    -121.24  \n",
       "\n",
       "[20640 rows x 8 columns]"
      ]
     },
     "execution_count": 17,
     "metadata": {},
     "output_type": "execute_result"
    }
   ],
   "source": [
    "## Converting data Into an DataFrame \n",
    "\n",
    "df=pd.DataFrame(data=houses.data,columns=houses.feature_names)\n",
    "df"
   ]
  },
  {
   "cell_type": "code",
   "execution_count": 63,
   "id": "e07cebb6-68ff-48d3-8e3f-aa6155bcb900",
   "metadata": {},
   "outputs": [
    {
     "data": {
      "text/html": [
       "<div>\n",
       "<style scoped>\n",
       "    .dataframe tbody tr th:only-of-type {\n",
       "        vertical-align: middle;\n",
       "    }\n",
       "\n",
       "    .dataframe tbody tr th {\n",
       "        vertical-align: top;\n",
       "    }\n",
       "\n",
       "    .dataframe thead th {\n",
       "        text-align: right;\n",
       "    }\n",
       "</style>\n",
       "<table border=\"1\" class=\"dataframe\">\n",
       "  <thead>\n",
       "    <tr style=\"text-align: right;\">\n",
       "      <th></th>\n",
       "      <th>MedInc</th>\n",
       "      <th>HouseAge</th>\n",
       "      <th>AveRooms</th>\n",
       "      <th>AveBedrms</th>\n",
       "      <th>Population</th>\n",
       "      <th>AveOccup</th>\n",
       "      <th>Latitude</th>\n",
       "      <th>Longitude</th>\n",
       "      <th>MedHouseVal</th>\n",
       "    </tr>\n",
       "  </thead>\n",
       "  <tbody>\n",
       "    <tr>\n",
       "      <th>0</th>\n",
       "      <td>8.3252</td>\n",
       "      <td>41.0</td>\n",
       "      <td>6.984127</td>\n",
       "      <td>1.023810</td>\n",
       "      <td>322.0</td>\n",
       "      <td>2.555556</td>\n",
       "      <td>37.88</td>\n",
       "      <td>-122.23</td>\n",
       "      <td>4.526</td>\n",
       "    </tr>\n",
       "    <tr>\n",
       "      <th>1</th>\n",
       "      <td>8.3014</td>\n",
       "      <td>21.0</td>\n",
       "      <td>6.238137</td>\n",
       "      <td>0.971880</td>\n",
       "      <td>2401.0</td>\n",
       "      <td>2.109842</td>\n",
       "      <td>37.86</td>\n",
       "      <td>-122.22</td>\n",
       "      <td>3.585</td>\n",
       "    </tr>\n",
       "    <tr>\n",
       "      <th>2</th>\n",
       "      <td>7.2574</td>\n",
       "      <td>52.0</td>\n",
       "      <td>8.288136</td>\n",
       "      <td>1.073446</td>\n",
       "      <td>496.0</td>\n",
       "      <td>2.802260</td>\n",
       "      <td>37.85</td>\n",
       "      <td>-122.24</td>\n",
       "      <td>3.521</td>\n",
       "    </tr>\n",
       "    <tr>\n",
       "      <th>3</th>\n",
       "      <td>5.6431</td>\n",
       "      <td>52.0</td>\n",
       "      <td>5.817352</td>\n",
       "      <td>1.073059</td>\n",
       "      <td>558.0</td>\n",
       "      <td>2.547945</td>\n",
       "      <td>37.85</td>\n",
       "      <td>-122.25</td>\n",
       "      <td>3.413</td>\n",
       "    </tr>\n",
       "    <tr>\n",
       "      <th>4</th>\n",
       "      <td>3.8462</td>\n",
       "      <td>52.0</td>\n",
       "      <td>6.281853</td>\n",
       "      <td>1.081081</td>\n",
       "      <td>565.0</td>\n",
       "      <td>2.181467</td>\n",
       "      <td>37.85</td>\n",
       "      <td>-122.25</td>\n",
       "      <td>3.422</td>\n",
       "    </tr>\n",
       "    <tr>\n",
       "      <th>...</th>\n",
       "      <td>...</td>\n",
       "      <td>...</td>\n",
       "      <td>...</td>\n",
       "      <td>...</td>\n",
       "      <td>...</td>\n",
       "      <td>...</td>\n",
       "      <td>...</td>\n",
       "      <td>...</td>\n",
       "      <td>...</td>\n",
       "    </tr>\n",
       "    <tr>\n",
       "      <th>20635</th>\n",
       "      <td>1.5603</td>\n",
       "      <td>25.0</td>\n",
       "      <td>5.045455</td>\n",
       "      <td>1.133333</td>\n",
       "      <td>845.0</td>\n",
       "      <td>2.560606</td>\n",
       "      <td>39.48</td>\n",
       "      <td>-121.09</td>\n",
       "      <td>0.781</td>\n",
       "    </tr>\n",
       "    <tr>\n",
       "      <th>20636</th>\n",
       "      <td>2.5568</td>\n",
       "      <td>18.0</td>\n",
       "      <td>6.114035</td>\n",
       "      <td>1.315789</td>\n",
       "      <td>356.0</td>\n",
       "      <td>3.122807</td>\n",
       "      <td>39.49</td>\n",
       "      <td>-121.21</td>\n",
       "      <td>0.771</td>\n",
       "    </tr>\n",
       "    <tr>\n",
       "      <th>20637</th>\n",
       "      <td>1.7000</td>\n",
       "      <td>17.0</td>\n",
       "      <td>5.205543</td>\n",
       "      <td>1.120092</td>\n",
       "      <td>1007.0</td>\n",
       "      <td>2.325635</td>\n",
       "      <td>39.43</td>\n",
       "      <td>-121.22</td>\n",
       "      <td>0.923</td>\n",
       "    </tr>\n",
       "    <tr>\n",
       "      <th>20638</th>\n",
       "      <td>1.8672</td>\n",
       "      <td>18.0</td>\n",
       "      <td>5.329513</td>\n",
       "      <td>1.171920</td>\n",
       "      <td>741.0</td>\n",
       "      <td>2.123209</td>\n",
       "      <td>39.43</td>\n",
       "      <td>-121.32</td>\n",
       "      <td>0.847</td>\n",
       "    </tr>\n",
       "    <tr>\n",
       "      <th>20639</th>\n",
       "      <td>2.3886</td>\n",
       "      <td>16.0</td>\n",
       "      <td>5.254717</td>\n",
       "      <td>1.162264</td>\n",
       "      <td>1387.0</td>\n",
       "      <td>2.616981</td>\n",
       "      <td>39.37</td>\n",
       "      <td>-121.24</td>\n",
       "      <td>0.894</td>\n",
       "    </tr>\n",
       "  </tbody>\n",
       "</table>\n",
       "<p>20640 rows × 9 columns</p>\n",
       "</div>"
      ],
      "text/plain": [
       "       MedInc  HouseAge  AveRooms  AveBedrms  Population  AveOccup  Latitude  \\\n",
       "0      8.3252      41.0  6.984127   1.023810       322.0  2.555556     37.88   \n",
       "1      8.3014      21.0  6.238137   0.971880      2401.0  2.109842     37.86   \n",
       "2      7.2574      52.0  8.288136   1.073446       496.0  2.802260     37.85   \n",
       "3      5.6431      52.0  5.817352   1.073059       558.0  2.547945     37.85   \n",
       "4      3.8462      52.0  6.281853   1.081081       565.0  2.181467     37.85   \n",
       "...       ...       ...       ...        ...         ...       ...       ...   \n",
       "20635  1.5603      25.0  5.045455   1.133333       845.0  2.560606     39.48   \n",
       "20636  2.5568      18.0  6.114035   1.315789       356.0  3.122807     39.49   \n",
       "20637  1.7000      17.0  5.205543   1.120092      1007.0  2.325635     39.43   \n",
       "20638  1.8672      18.0  5.329513   1.171920       741.0  2.123209     39.43   \n",
       "20639  2.3886      16.0  5.254717   1.162264      1387.0  2.616981     39.37   \n",
       "\n",
       "       Longitude  MedHouseVal  \n",
       "0        -122.23        4.526  \n",
       "1        -122.22        3.585  \n",
       "2        -122.24        3.521  \n",
       "3        -122.25        3.413  \n",
       "4        -122.25        3.422  \n",
       "...          ...          ...  \n",
       "20635    -121.09        0.781  \n",
       "20636    -121.21        0.771  \n",
       "20637    -121.22        0.923  \n",
       "20638    -121.32        0.847  \n",
       "20639    -121.24        0.894  \n",
       "\n",
       "[20640 rows x 9 columns]"
      ]
     },
     "execution_count": 63,
     "metadata": {},
     "output_type": "execute_result"
    }
   ],
   "source": [
    "df['MedHouseVal']=houses.target\n",
    "df"
   ]
  },
  {
   "cell_type": "markdown",
   "id": "f014db99-ffa4-4e0b-be40-1efbcb5ef32a",
   "metadata": {},
   "source": [
    "## Perform Basic Checks "
   ]
  },
  {
   "cell_type": "code",
   "execution_count": 24,
   "id": "5e9d698d-ba41-4ae9-abb0-a3f86ee344f6",
   "metadata": {},
   "outputs": [
    {
     "name": "stdout",
     "output_type": "stream",
     "text": [
      "<class 'pandas.core.frame.DataFrame'>\n",
      "RangeIndex: 20640 entries, 0 to 20639\n",
      "Data columns (total 8 columns):\n",
      " #   Column      Non-Null Count  Dtype  \n",
      "---  ------      --------------  -----  \n",
      " 0   MedInc      20640 non-null  float64\n",
      " 1   HouseAge    20640 non-null  float64\n",
      " 2   AveRooms    20640 non-null  float64\n",
      " 3   AveBedrms   20640 non-null  float64\n",
      " 4   Population  20640 non-null  float64\n",
      " 5   AveOccup    20640 non-null  float64\n",
      " 6   Latitude    20640 non-null  float64\n",
      " 7   Longitude   20640 non-null  float64\n",
      "dtypes: float64(8)\n",
      "memory usage: 1.3 MB\n"
     ]
    }
   ],
   "source": [
    "df.info()"
   ]
  },
  {
   "cell_type": "code",
   "execution_count": 26,
   "id": "7e0a83da-57b5-42d3-aed1-6098c705d00b",
   "metadata": {},
   "outputs": [
    {
     "data": {
      "text/plain": [
       "(20640, 8)"
      ]
     },
     "execution_count": 26,
     "metadata": {},
     "output_type": "execute_result"
    }
   ],
   "source": [
    "df.shape"
   ]
  },
  {
   "cell_type": "code",
   "execution_count": 33,
   "id": "91d37b97-f5b0-4e19-9a35-8864d88848e6",
   "metadata": {},
   "outputs": [
    {
     "data": {
      "text/plain": [
       "<bound method NDFrame.describe of        MedInc  HouseAge  AveRooms  AveBedrms  Population  AveOccup  Latitude  \\\n",
       "0      8.3252      41.0  6.984127   1.023810       322.0  2.555556     37.88   \n",
       "1      8.3014      21.0  6.238137   0.971880      2401.0  2.109842     37.86   \n",
       "2      7.2574      52.0  8.288136   1.073446       496.0  2.802260     37.85   \n",
       "3      5.6431      52.0  5.817352   1.073059       558.0  2.547945     37.85   \n",
       "4      3.8462      52.0  6.281853   1.081081       565.0  2.181467     37.85   \n",
       "...       ...       ...       ...        ...         ...       ...       ...   \n",
       "20635  1.5603      25.0  5.045455   1.133333       845.0  2.560606     39.48   \n",
       "20636  2.5568      18.0  6.114035   1.315789       356.0  3.122807     39.49   \n",
       "20637  1.7000      17.0  5.205543   1.120092      1007.0  2.325635     39.43   \n",
       "20638  1.8672      18.0  5.329513   1.171920       741.0  2.123209     39.43   \n",
       "20639  2.3886      16.0  5.254717   1.162264      1387.0  2.616981     39.37   \n",
       "\n",
       "       Longitude  Target  \n",
       "0        -122.23   4.526  \n",
       "1        -122.22   3.585  \n",
       "2        -122.24   3.521  \n",
       "3        -122.25   3.413  \n",
       "4        -122.25   3.422  \n",
       "...          ...     ...  \n",
       "20635    -121.09   0.781  \n",
       "20636    -121.21   0.771  \n",
       "20637    -121.22   0.923  \n",
       "20638    -121.32   0.847  \n",
       "20639    -121.24   0.894  \n",
       "\n",
       "[20640 rows x 9 columns]>"
      ]
     },
     "execution_count": 33,
     "metadata": {},
     "output_type": "execute_result"
    }
   ],
   "source": [
    "df.describe"
   ]
  },
  {
   "cell_type": "code",
   "execution_count": 34,
   "id": "d918935e-edf4-4a6f-9149-53123148f3ce",
   "metadata": {},
   "outputs": [
    {
     "data": {
      "text/plain": [
       "MedInc        0\n",
       "HouseAge      0\n",
       "AveRooms      0\n",
       "AveBedrms     0\n",
       "Population    0\n",
       "AveOccup      0\n",
       "Latitude      0\n",
       "Longitude     0\n",
       "Target        0\n",
       "dtype: int64"
      ]
     },
     "execution_count": 34,
     "metadata": {},
     "output_type": "execute_result"
    }
   ],
   "source": [
    "## Finding Null Values \n",
    "\n",
    "df.isnull().sum()"
   ]
  },
  {
   "cell_type": "code",
   "execution_count": 40,
   "id": "84bccf9a-bb24-4865-baf5-30bbdd18c6d8",
   "metadata": {},
   "outputs": [
    {
     "data": {
      "text/plain": [
       "np.int64(0)"
      ]
     },
     "execution_count": 40,
     "metadata": {},
     "output_type": "execute_result"
    }
   ],
   "source": [
    "## Finding Duplicated  Values \n",
    "\n",
    "df.duplicated().sum()"
   ]
  },
  {
   "cell_type": "code",
   "execution_count": 64,
   "id": "a07773d7-63dd-4597-b82e-628ac884d5b4",
   "metadata": {},
   "outputs": [
    {
     "data": {
      "text/plain": [
       "['MedInc',\n",
       " 'HouseAge',\n",
       " 'AveRooms',\n",
       " 'AveBedrms',\n",
       " 'Population',\n",
       " 'AveOccup',\n",
       " 'Latitude',\n",
       " 'Longitude',\n",
       " 'MedHouseVal']"
      ]
     },
     "execution_count": 64,
     "metadata": {},
     "output_type": "execute_result"
    }
   ],
   "source": [
    "## Checking Columns in the Data \n",
    "df.columns.tolist()"
   ]
  },
  {
   "cell_type": "code",
   "execution_count": 65,
   "id": "7214303d-74d6-4784-9c83-d46e3727fcf2",
   "metadata": {},
   "outputs": [
    {
     "data": {
      "image/png": "[encoded data removed]",
      "text/plain": [
       "<Figure size 640x480 with 1 Axes>"
      ]
     },
     "metadata": {},
     "output_type": "display_data"
    }
   ],
   "source": [
    "## Finding outliers using box plot \n",
    "\n",
    "sns.boxplot(data=df,)\n",
    "plt.xticks(rotation =70)\n",
    "plt.title(\"Boxplot for Numeric Columns\")\n",
    "plt.show()\n"
   ]
  },
  {
   "cell_type": "markdown",
   "id": "5807e316-f33f-454c-8c2e-d8c91477b4f7",
   "metadata": {},
   "source": [
    "## Storing Features and target in Variables "
   ]
  },
  {
   "cell_type": "code",
   "execution_count": 71,
   "id": "6978d861-d7b0-42ed-a682-87249a750c25",
   "metadata": {},
   "outputs": [
    {
     "data": {
      "text/html": [
       "<div>\n",
       "<style scoped>\n",
       "    .dataframe tbody tr th:only-of-type {\n",
       "        vertical-align: middle;\n",
       "    }\n",
       "\n",
       "    .dataframe tbody tr th {\n",
       "        vertical-align: top;\n",
       "    }\n",
       "\n",
       "    .dataframe thead th {\n",
       "        text-align: right;\n",
       "    }\n",
       "</style>\n",
       "<table border=\"1\" class=\"dataframe\">\n",
       "  <thead>\n",
       "    <tr style=\"text-align: right;\">\n",
       "      <th></th>\n",
       "      <th>MedInc</th>\n",
       "      <th>HouseAge</th>\n",
       "      <th>AveRooms</th>\n",
       "      <th>AveBedrms</th>\n",
       "      <th>Population</th>\n",
       "      <th>AveOccup</th>\n",
       "      <th>Latitude</th>\n",
       "      <th>Longitude</th>\n",
       "    </tr>\n",
       "  </thead>\n",
       "  <tbody>\n",
       "    <tr>\n",
       "      <th>0</th>\n",
       "      <td>8.3252</td>\n",
       "      <td>41.0</td>\n",
       "      <td>6.984127</td>\n",
       "      <td>1.023810</td>\n",
       "      <td>322.0</td>\n",
       "      <td>2.555556</td>\n",
       "      <td>37.88</td>\n",
       "      <td>-122.23</td>\n",
       "    </tr>\n",
       "    <tr>\n",
       "      <th>1</th>\n",
       "      <td>8.3014</td>\n",
       "      <td>21.0</td>\n",
       "      <td>6.238137</td>\n",
       "      <td>0.971880</td>\n",
       "      <td>2401.0</td>\n",
       "      <td>2.109842</td>\n",
       "      <td>37.86</td>\n",
       "      <td>-122.22</td>\n",
       "    </tr>\n",
       "    <tr>\n",
       "      <th>2</th>\n",
       "      <td>7.2574</td>\n",
       "      <td>52.0</td>\n",
       "      <td>8.288136</td>\n",
       "      <td>1.073446</td>\n",
       "      <td>496.0</td>\n",
       "      <td>2.802260</td>\n",
       "      <td>37.85</td>\n",
       "      <td>-122.24</td>\n",
       "    </tr>\n",
       "    <tr>\n",
       "      <th>3</th>\n",
       "      <td>5.6431</td>\n",
       "      <td>52.0</td>\n",
       "      <td>5.817352</td>\n",
       "      <td>1.073059</td>\n",
       "      <td>558.0</td>\n",
       "      <td>2.547945</td>\n",
       "      <td>37.85</td>\n",
       "      <td>-122.25</td>\n",
       "    </tr>\n",
       "    <tr>\n",
       "      <th>4</th>\n",
       "      <td>3.8462</td>\n",
       "      <td>52.0</td>\n",
       "      <td>6.281853</td>\n",
       "      <td>1.081081</td>\n",
       "      <td>565.0</td>\n",
       "      <td>2.181467</td>\n",
       "      <td>37.85</td>\n",
       "      <td>-122.25</td>\n",
       "    </tr>\n",
       "    <tr>\n",
       "      <th>...</th>\n",
       "      <td>...</td>\n",
       "      <td>...</td>\n",
       "      <td>...</td>\n",
       "      <td>...</td>\n",
       "      <td>...</td>\n",
       "      <td>...</td>\n",
       "      <td>...</td>\n",
       "      <td>...</td>\n",
       "    </tr>\n",
       "    <tr>\n",
       "      <th>20635</th>\n",
       "      <td>1.5603</td>\n",
       "      <td>25.0</td>\n",
       "      <td>5.045455</td>\n",
       "      <td>1.133333</td>\n",
       "      <td>845.0</td>\n",
       "      <td>2.560606</td>\n",
       "      <td>39.48</td>\n",
       "      <td>-121.09</td>\n",
       "    </tr>\n",
       "    <tr>\n",
       "      <th>20636</th>\n",
       "      <td>2.5568</td>\n",
       "      <td>18.0</td>\n",
       "      <td>6.114035</td>\n",
       "      <td>1.315789</td>\n",
       "      <td>356.0</td>\n",
       "      <td>3.122807</td>\n",
       "      <td>39.49</td>\n",
       "      <td>-121.21</td>\n",
       "    </tr>\n",
       "    <tr>\n",
       "      <th>20637</th>\n",
       "      <td>1.7000</td>\n",
       "      <td>17.0</td>\n",
       "      <td>5.205543</td>\n",
       "      <td>1.120092</td>\n",
       "      <td>1007.0</td>\n",
       "      <td>2.325635</td>\n",
       "      <td>39.43</td>\n",
       "      <td>-121.22</td>\n",
       "    </tr>\n",
       "    <tr>\n",
       "      <th>20638</th>\n",
       "      <td>1.8672</td>\n",
       "      <td>18.0</td>\n",
       "      <td>5.329513</td>\n",
       "      <td>1.171920</td>\n",
       "      <td>741.0</td>\n",
       "      <td>2.123209</td>\n",
       "      <td>39.43</td>\n",
       "      <td>-121.32</td>\n",
       "    </tr>\n",
       "    <tr>\n",
       "      <th>20639</th>\n",
       "      <td>2.3886</td>\n",
       "      <td>16.0</td>\n",
       "      <td>5.254717</td>\n",
       "      <td>1.162264</td>\n",
       "      <td>1387.0</td>\n",
       "      <td>2.616981</td>\n",
       "      <td>39.37</td>\n",
       "      <td>-121.24</td>\n",
       "    </tr>\n",
       "  </tbody>\n",
       "</table>\n",
       "<p>20640 rows × 8 columns</p>\n",
       "</div>"
      ],
      "text/plain": [
       "       MedInc  HouseAge  AveRooms  AveBedrms  Population  AveOccup  Latitude  \\\n",
       "0      8.3252      41.0  6.984127   1.023810       322.0  2.555556     37.88   \n",
       "1      8.3014      21.0  6.238137   0.971880      2401.0  2.109842     37.86   \n",
       "2      7.2574      52.0  8.288136   1.073446       496.0  2.802260     37.85   \n",
       "3      5.6431      52.0  5.817352   1.073059       558.0  2.547945     37.85   \n",
       "4      3.8462      52.0  6.281853   1.081081       565.0  2.181467     37.85   \n",
       "...       ...       ...       ...        ...         ...       ...       ...   \n",
       "20635  1.5603      25.0  5.045455   1.133333       845.0  2.560606     39.48   \n",
       "20636  2.5568      18.0  6.114035   1.315789       356.0  3.122807     39.49   \n",
       "20637  1.7000      17.0  5.205543   1.120092      1007.0  2.325635     39.43   \n",
       "20638  1.8672      18.0  5.329513   1.171920       741.0  2.123209     39.43   \n",
       "20639  2.3886      16.0  5.254717   1.162264      1387.0  2.616981     39.37   \n",
       "\n",
       "       Longitude  \n",
       "0        -122.23  \n",
       "1        -122.22  \n",
       "2        -122.24  \n",
       "3        -122.25  \n",
       "4        -122.25  \n",
       "...          ...  \n",
       "20635    -121.09  \n",
       "20636    -121.21  \n",
       "20637    -121.22  \n",
       "20638    -121.32  \n",
       "20639    -121.24  \n",
       "\n",
       "[20640 rows x 8 columns]"
      ]
     },
     "execution_count": 71,
     "metadata": {},
     "output_type": "execute_result"
    }
   ],
   "source": [
    "X= df.drop('MedHouseVal',axis=1)\n",
    "X"
   ]
  },
  {
   "cell_type": "code",
   "execution_count": 72,
   "id": "65197063-090d-40b5-b786-6c38042cd6cd",
   "metadata": {},
   "outputs": [
    {
     "data": {
      "text/plain": [
       "0        4.526\n",
       "1        3.585\n",
       "2        3.521\n",
       "3        3.413\n",
       "4        3.422\n",
       "         ...  \n",
       "20635    0.781\n",
       "20636    0.771\n",
       "20637    0.923\n",
       "20638    0.847\n",
       "20639    0.894\n",
       "Name: MedHouseVal, Length: 20640, dtype: float64"
      ]
     },
     "execution_count": 72,
     "metadata": {},
     "output_type": "execute_result"
    }
   ],
   "source": [
    "y=df['MedHouseVal']\n",
    "y"
   ]
  },
  {
   "cell_type": "markdown",
   "id": "e764572a-c8df-42a9-83c6-3bfeee934955",
   "metadata": {},
   "source": [
    "## Spliting data into train test data\n"
   ]
  },
  {
   "cell_type": "code",
   "execution_count": 73,
   "id": "6ce94597-2a48-45aa-90cf-a5f5a96caaa0",
   "metadata": {},
   "outputs": [],
   "source": [
    "from sklearn.model_selection import train_test_split"
   ]
  },
  {
   "cell_type": "code",
   "execution_count": 78,
   "id": "4e89d377-dd0d-4b8c-bef3-8bbef93041d6",
   "metadata": {},
   "outputs": [],
   "source": [
    "X_train,X_test,y_train,y_test = train_test_split(X,y,random_state=42,test_size=0.2)"
   ]
  },
  {
   "cell_type": "code",
   "execution_count": 76,
   "id": "e1f9829a-d96e-4b93-a657-91b58d3390e1",
   "metadata": {},
   "outputs": [
    {
     "data": {
      "text/plain": [
       "16512"
      ]
     },
     "execution_count": 76,
     "metadata": {},
     "output_type": "execute_result"
    }
   ],
   "source": [
    "len(X_train)"
   ]
  },
  {
   "cell_type": "code",
   "execution_count": 80,
   "id": "50bc6659-dd51-407a-a468-c5b76abc258a",
   "metadata": {},
   "outputs": [
    {
     "data": {
      "text/plain": [
       "4128"
      ]
     },
     "execution_count": 80,
     "metadata": {},
     "output_type": "execute_result"
    }
   ],
   "source": [
    "len(X_test)"
   ]
  },
  {
   "cell_type": "markdown",
   "id": "cf772d4c-80c8-4ac1-ae5d-8773ee48a7e1",
   "metadata": {},
   "source": [
    "## Intializing standard Scaler\n"
   ]
  },
  {
   "cell_type": "code",
   "execution_count": 81,
   "id": "28cd961e-be45-486e-8bbb-31cb7ccd0d06",
   "metadata": {},
   "outputs": [],
   "source": [
    "from sklearn.preprocessing import StandardScaler\n"
   ]
  },
  {
   "cell_type": "code",
   "execution_count": 82,
   "id": "0b74b5f8-3dac-43d6-ab57-fdbfb59b6ec2",
   "metadata": {},
   "outputs": [],
   "source": [
    "scaler= StandardScaler()"
   ]
  },
  {
   "cell_type": "code",
   "execution_count": 84,
   "id": "37c140f6-b3d5-4120-bfc2-affafd98abd3",
   "metadata": {},
   "outputs": [
    {
     "data": {
      "text/plain": [
       "array([[-0.326196  ,  0.34849025, -0.17491646, ...,  0.05137609,\n",
       "        -1.3728112 ,  1.27258656],\n",
       "       [-0.03584338,  1.61811813, -0.40283542, ..., -0.11736222,\n",
       "        -0.87669601,  0.70916212],\n",
       "       [ 0.14470145, -1.95271028,  0.08821601, ..., -0.03227969,\n",
       "        -0.46014647, -0.44760309],\n",
       "       ...,\n",
       "       [-0.49697313,  0.58654547, -0.60675918, ...,  0.02030568,\n",
       "        -0.75500738,  0.59946887],\n",
       "       [ 0.96545045, -1.07984112,  0.40217517, ...,  0.00707608,\n",
       "         0.90651045, -1.18553953],\n",
       "       [-0.68544764,  1.85617335, -0.85144571, ..., -0.08535429,\n",
       "         0.99543676, -1.41489815]])"
      ]
     },
     "execution_count": 84,
     "metadata": {},
     "output_type": "execute_result"
    }
   ],
   "source": [
    "Scaled_X_train = scaler.fit_transform(X_train)\n",
    "Scaled_X_train"
   ]
  },
  {
   "cell_type": "code",
   "execution_count": 86,
   "id": "7b3a148c-710d-46b1-adfa-ef32a51ae6ad",
   "metadata": {},
   "outputs": [
    {
     "data": {
      "text/plain": [
       "array([[-1.15508475, -0.28632369, -0.52068576, ...,  0.06740798,\n",
       "         0.1951    ,  0.28534728],\n",
       "       [-0.70865905,  0.11043502, -0.16581537, ..., -0.03602975,\n",
       "        -0.23549054,  0.06097472],\n",
       "       [-0.21040155,  1.85617335, -0.61076476, ..., -0.14998876,\n",
       "         1.00947776, -1.42487026],\n",
       "       ...,\n",
       "       [ 2.80902421, -0.28632369,  0.75501156, ..., -0.02646898,\n",
       "         0.78014149, -1.23041404],\n",
       "       [-0.57542978,  0.58654547, -0.06124296, ..., -0.04390537,\n",
       "         0.52740357, -0.08860699],\n",
       "       [-0.17259111, -0.92113763, -0.6058703 , ...,  0.05466644,\n",
       "        -0.66608108,  0.60445493]])"
      ]
     },
     "execution_count": 86,
     "metadata": {},
     "output_type": "execute_result"
    }
   ],
   "source": [
    "Scaled_X_Test=scaler.transform(X_test)\n",
    "Scaled_X_Test"
   ]
  },
  {
   "cell_type": "code",
   "execution_count": 96,
   "id": "e8006fac-92db-4cfb-99b5-c94a3707711c",
   "metadata": {},
   "outputs": [],
   "source": [
    "## for Evaluation purposes \n",
    "\n",
    "from sklearn.metrics import mean_squared_error,mean_absolute_error,r2_score"
   ]
  },
  {
   "cell_type": "markdown",
   "id": "86405e00-20db-48dd-86e6-71d99549ea10",
   "metadata": {},
   "source": [
    "## Importing libraries"
   ]
  },
  {
   "cell_type": "code",
   "execution_count": 99,
   "id": "b79818d0-72a6-48ba-b940-49bff731dc72",
   "metadata": {},
   "outputs": [],
   "source": [
    "\n",
    "from sklearn.linear_model import LinearRegression\n",
    "from sklearn.ensemble import RandomForestRegressor\n",
    "from sklearn.tree import DecisionTreeRegressor\n",
    "from sklearn.svm import SVR\n",
    "from sklearn.ensemble import GradientBoostingRegressor\n",
    "\n"
   ]
  },
  {
   "cell_type": "code",
   "execution_count": 163,
   "id": "37f87447-1920-4f32-8e75-e2ebc6d633f9",
   "metadata": {},
   "outputs": [],
   "source": [
    "## Building a model to  Implement  regression algorithms:\n",
    "\n",
    "def build_models(model, X_train, y_train, X_test, y_test):\n",
    "    print('Running Model Name :',model)\n",
    "    model.fit(X_train, y_train)\n",
    "    result= model.predict(X_test)\n",
    "    print ('----------------------------------------------')\n",
    "\n",
    "    return {\n",
    "        \"Model\": type(model).__name__+\"✅\",\n",
    "        \"MSE\": mean_squared_error(y_test, result),\n",
    "        \"MAE\": mean_absolute_error(y_test, result),\n",
    "        \"R2\": r2_score(y_test, result)\n",
    "    }"
   ]
  },
  {
   "cell_type": "code",
   "execution_count": 159,
   "id": "a9945ce7-36da-4b20-9faf-9afb21520585",
   "metadata": {},
   "outputs": [],
   "source": [
    "## For Storing the Data \n",
    "\n",
    "results_list=[]"
   ]
  },
  {
   "cell_type": "markdown",
   "id": "d4cb844d-165a-48b8-aef7-1d5078490cb6",
   "metadata": {},
   "source": [
    "\n",
    "\n",
    "## 1️⃣ Linear Regression\n",
    "🔍 How It Works:\n",
    "\n",
    "    Assumes a linear relationship between housing features (e.g., income, location, rooms) and house value.\n",
    "\n",
    "    Estimates the best-fit line (or hyperplane) that minimizes the squared difference between predicted and actual values.\n",
    "\n",
    "    Each feature contributes to the output with a learned weight.\n",
    "\n",
    "✅ Suitability for This Dataset:\n",
    "\n",
    "    Good baseline model to understand overall trends, especially how MedInc, AveRooms, etc. relate to house prices.\n",
    "\n",
    "    Limited in capturing nonlinear effects, such as how location (Latitude, Longitude) might influence house prices in a non-straightforward way.\n",
    "\n",
    "    Works well if relationships are mostly linear, which may partially be true for features like income and house value."
   ]
  },
  {
   "cell_type": "code",
   "execution_count": 160,
   "id": "c8ae50e9-cdef-4929-a50b-60b9cb99eb57",
   "metadata": {},
   "outputs": [],
   "source": [
    "## Initialising the  Model \n",
    "linear_model=LinearRegression()"
   ]
  },
  {
   "cell_type": "code",
   "execution_count": 164,
   "id": "7e163e78-1056-41fb-bdd7-b337626aa210",
   "metadata": {},
   "outputs": [
    {
     "name": "stdout",
     "output_type": "stream",
     "text": [
      "Running Model Name : LinearRegression()\n",
      "----------------------------------------------\n",
      "{'Model': 'LinearRegression✅', 'MSE': 0.5558915986952442, 'MAE': 0.5332001304956565, 'R2': 0.575787706032451}\n"
     ]
    }
   ],
   "source": [
    "## Building and Evaluation of the model\n",
    "lr_result = build_models(linear_model, Scaled_X_train, y_train, Scaled_X_test, y_test)\n",
    "results_list.append(lr_result)\n",
    "print(lr_result)"
   ]
  },
  {
   "cell_type": "markdown",
   "id": "9207c8a1-7268-41a3-9064-f059170d95e3",
   "metadata": {},
   "source": [
    "## 2️⃣ Decision Tree Regressor\n",
    "🔍 How It Works:\n",
    "\n",
    "    Splits data into groups by making decisions (like \"Is MedInc < 5?\") to minimize prediction error.\n",
    "\n",
    "    Each path in the tree leads to a prediction value in the leaf node.\n",
    "\n",
    "    Automatically captures nonlinear interactions and thresholds in data.\n",
    "\n",
    "✅ Suitability for This Dataset:\n",
    "\n",
    "    Effective when house prices are influenced by conditional patterns, such as \"If Latitude is high AND MedInc is low, then price is low\".\n",
    "\n",
    "    Handles nonlinear effects and feature interactions without preprocessing.\n",
    "\n",
    "    However, can overfit the training data unless pruning or depth control is used.\n",
    "\n"
   ]
  },
  {
   "cell_type": "code",
   "execution_count": 165,
   "id": "2c75a678-c0ba-4831-b2e3-9e58c00e5478",
   "metadata": {},
   "outputs": [],
   "source": [
    "## Initialising the  Model \n",
    "dtree_model =DecisionTreeRegressor()"
   ]
  },
  {
   "cell_type": "code",
   "execution_count": 166,
   "id": "87761886-60df-4d12-8ea6-3a96c1ece2e4",
   "metadata": {},
   "outputs": [
    {
     "name": "stdout",
     "output_type": "stream",
     "text": [
      "Running Model Name : DecisionTreeRegressor()\n",
      "----------------------------------------------\n",
      "{'Model': 'DecisionTreeRegressor✅', 'MSE': 0.4982381771553778, 'MAE': 0.4541881637596899, 'R2': 0.6197842158986002}\n"
     ]
    }
   ],
   "source": [
    "## Building and Evaluation of the model\n",
    "dtree_result = build_models(dtree_model, Scaled_X_train, y_train, Scaled_X_test, y_test)\n",
    "results_list.append(dtree_result)\n",
    "print(dtree_result)"
   ]
  },
  {
   "cell_type": "markdown",
   "id": "0d42f9d9-5391-4309-8453-aaf60365275e",
   "metadata": {},
   "source": [
    "## 3️⃣ Random Forest Regressor\n",
    "🔍 How It Works:\n",
    "\n",
    "    Builds many decision trees on random subsets of data and features.\n",
    "\n",
    "    Averages the predictions from each tree to improve accuracy and robustness.\n",
    "\n",
    "    Reduces the risk of overfitting compared to a single decision tree.\n",
    "\n",
    "✅ Suitability for This Dataset:\n",
    "\n",
    "    Excellent for capturing complex relationships between features like population, income, and geographic coordinates.\n",
    "\n",
    "    Performs well on large, diverse datasets like this one.\n",
    "\n",
    "    More stable and accurate than single trees. Can detect subtle interactions, such as neighborhoods with similar incomes but different occupancy patterns."
   ]
  },
  {
   "cell_type": "code",
   "execution_count": 102,
   "id": "da697172-86c2-479b-ac0f-4b4571f908f8",
   "metadata": {},
   "outputs": [],
   "source": [
    "## Initialising the  Model \n",
    "rfr_model=RandomForestRegressor()"
   ]
  },
  {
   "cell_type": "code",
   "execution_count": 167,
   "id": "188bf3f1-bf26-412a-8bd6-26f98fd5ba53",
   "metadata": {},
   "outputs": [
    {
     "name": "stdout",
     "output_type": "stream",
     "text": [
      "Running Model Name : RandomForestRegressor()\n",
      "----------------------------------------------\n",
      "{'Model': 'RandomForestRegressor✅', 'MSE': 0.2557323624242555, 'MAE': 0.32713991860465136, 'R2': 0.8048453828761521}\n"
     ]
    }
   ],
   "source": [
    "## Building and Evaluation of the model\n",
    "rfr_result = build_models(rfr_model, Scaled_X_train, y_train, Scaled_X_test, y_test)\n",
    "results_list.append(rfr_result)\n",
    "print(rfr_result)"
   ]
  },
  {
   "cell_type": "markdown",
   "id": "c5b11660-179d-4e58-b20e-933dbc017c04",
   "metadata": {},
   "source": [
    "## 4️⃣ Gradient Boosting Regressor\n",
    "🔍 How It Works:\n",
    "\n",
    "    Builds trees sequentially, each one learning from the residuals (errors) of the previous one.\n",
    "\n",
    "    Uses gradient descent to minimize prediction errors efficiently.\n",
    "\n",
    "    Typically more accurate than random forests for structured/tabular data.\n",
    "\n",
    "✅ Suitability for This Dataset:\n",
    "\n",
    "    Powerful for detecting fine-grained trends in housing data, especially subtle effects of geographic features.\n",
    "\n",
    "    Can model nonlinear and compound relationships — like how population density and room count together influence house value.\n",
    "\n",
    "    Sensitive to hyperparameters, but with proper tuning, often achieves the best results.\n",
    "\n"
   ]
  },
  {
   "cell_type": "code",
   "execution_count": 113,
   "id": "804a5261-b6ae-4049-8bab-87faa0088bba",
   "metadata": {},
   "outputs": [],
   "source": [
    "## Initialising the  Model \n",
    "gbr_model=GradientBoostingRegressor()"
   ]
  },
  {
   "cell_type": "code",
   "execution_count": 168,
   "id": "171d4c58-8918-4876-91f4-3cc02b42c2c7",
   "metadata": {},
   "outputs": [
    {
     "name": "stdout",
     "output_type": "stream",
     "text": [
      "Running Model Name : GradientBoostingRegressor()\n",
      "----------------------------------------------\n",
      "{'Model': 'GradientBoostingRegressor✅', 'MSE': 0.2939363876764216, 'MAE': 0.371635955851934, 'R2': 0.7756911067024255}\n"
     ]
    }
   ],
   "source": [
    "## Building and Evaluation of the model\n",
    "gbr_result = build_models(gbr_model, Scaled_X_train, y_train, Scaled_X_test, y_test)\n",
    "results_list.append(gbr_result)\n",
    "print(gbr_result)"
   ]
  },
  {
   "cell_type": "markdown",
   "id": "9b46ab36-463e-4a5b-8dc3-e537ffcbb48a",
   "metadata": {},
   "source": [
    "## 5️⃣ Support Vector Regressor (SVR)\n",
    "🔍 How It Works:\n",
    "\n",
    "    Tries to fit a line (or curve) that stays within a margin of tolerance (epsilon) from actual values.\n",
    "\n",
    "    Uses kernel tricks (like RBF) to capture nonlinear relationships.\n",
    "\n",
    "    Focuses on points that fall outside the margin (support vectors).\n",
    "\n",
    "✅ Suitability for This Dataset:\n",
    "\n",
    "    Can be effective if you expect smooth nonlinear patterns (e.g., how prices increase with income, but level off).\n",
    "\n",
    "    Works best when dataset is smaller or reduced, because SVR is computationally expensive with large data.\n",
    "\n",
    "    Needs scaling and careful tuning to perform well.\n",
    "\n"
   ]
  },
  {
   "cell_type": "code",
   "execution_count": 115,
   "id": "0f7e0c15-1dcf-413a-9fda-3d61865b6542",
   "metadata": {},
   "outputs": [],
   "source": [
    "## Initialising the  Model \n",
    "\n",
    "svr_model= SVR()"
   ]
  },
  {
   "cell_type": "code",
   "execution_count": 169,
   "id": "5c04c49e-2846-4b78-b438-d4ba94a5bbca",
   "metadata": {},
   "outputs": [
    {
     "name": "stdout",
     "output_type": "stream",
     "text": [
      "Running Model Name : SVR()\n",
      "----------------------------------------------\n",
      "{'Model': 'SVR✅', 'MSE': 0.3570040319338641, 'MAE': 0.3985990769520539, 'R2': 0.7275628923016779}\n"
     ]
    }
   ],
   "source": [
    "## Building and Evaluation of the model\n",
    "svr_result = build_models(svr_model, Scaled_X_train, y_train, Scaled_X_test, y_test)\n",
    "results_list.append(svr_result)\n",
    "print(svr_result)"
   ]
  },
  {
   "cell_type": "markdown",
   "id": "1e3ff2d7-fa81-46d9-a30f-d39725cef110",
   "metadata": {},
   "source": [
    "## Comparing the results of all models by creating a DataFrame "
   ]
  },
  {
   "cell_type": "code",
   "execution_count": 177,
   "id": "28976f7b-cb6f-4485-8c1e-65b732f1fdd7",
   "metadata": {},
   "outputs": [
    {
     "data": {
      "text/html": [
       "<div>\n",
       "<style scoped>\n",
       "    .dataframe tbody tr th:only-of-type {\n",
       "        vertical-align: middle;\n",
       "    }\n",
       "\n",
       "    .dataframe tbody tr th {\n",
       "        vertical-align: top;\n",
       "    }\n",
       "\n",
       "    .dataframe thead th {\n",
       "        text-align: right;\n",
       "    }\n",
       "</style>\n",
       "<table border=\"1\" class=\"dataframe\">\n",
       "  <thead>\n",
       "    <tr style=\"text-align: right;\">\n",
       "      <th></th>\n",
       "      <th>Model</th>\n",
       "      <th>MSE</th>\n",
       "      <th>MAE</th>\n",
       "      <th>R2</th>\n",
       "    </tr>\n",
       "  </thead>\n",
       "  <tbody>\n",
       "    <tr>\n",
       "      <th>0</th>\n",
       "      <td>LinearRegression✅</td>\n",
       "      <td>0.555892</td>\n",
       "      <td>0.533200</td>\n",
       "      <td>0.575788</td>\n",
       "    </tr>\n",
       "    <tr>\n",
       "      <th>1</th>\n",
       "      <td>DecisionTreeRegressor✅</td>\n",
       "      <td>0.498238</td>\n",
       "      <td>0.454188</td>\n",
       "      <td>0.619784</td>\n",
       "    </tr>\n",
       "    <tr>\n",
       "      <th>2</th>\n",
       "      <td>RandomForestRegressor✅</td>\n",
       "      <td>0.255732</td>\n",
       "      <td>0.327140</td>\n",
       "      <td>0.804845</td>\n",
       "    </tr>\n",
       "    <tr>\n",
       "      <th>3</th>\n",
       "      <td>GradientBoostingRegressor✅</td>\n",
       "      <td>0.293936</td>\n",
       "      <td>0.371636</td>\n",
       "      <td>0.775691</td>\n",
       "    </tr>\n",
       "    <tr>\n",
       "      <th>4</th>\n",
       "      <td>SVR✅</td>\n",
       "      <td>0.357004</td>\n",
       "      <td>0.398599</td>\n",
       "      <td>0.727563</td>\n",
       "    </tr>\n",
       "  </tbody>\n",
       "</table>\n",
       "</div>"
      ],
      "text/plain": [
       "                        Model       MSE       MAE        R2\n",
       "0           LinearRegression✅  0.555892  0.533200  0.575788\n",
       "1      DecisionTreeRegressor✅  0.498238  0.454188  0.619784\n",
       "2      RandomForestRegressor✅  0.255732  0.327140  0.804845\n",
       "3  GradientBoostingRegressor✅  0.293936  0.371636  0.775691\n",
       "4                        SVR✅  0.357004  0.398599  0.727563"
      ]
     },
     "execution_count": 177,
     "metadata": {},
     "output_type": "execute_result"
    }
   ],
   "source": [
    "results_df = pd.DataFrame(results_list)\n",
    "results_df"
   ]
  },
  {
   "cell_type": "markdown",
   "id": "6f2447c4-fd0a-467d-ac1b-650173a096f4",
   "metadata": {},
   "source": [
    "## Best-Performing Model: Random Forest Regressor \n",
    " Justification:\n",
    "\n",
    "    Lowest MSE (0.2557) – best at minimizing squared error.\n",
    "\n",
    "    Lowest MAE (0.3271) – smallest average error between predictions and actual values.\n",
    "\n",
    "    Highest R² (0.8048) – explains ~80.5% of the variance in house prices.\n",
    "\n",
    "    Ensemble-based method that combines multiple decision trees and avoids overfitting via randomization.\n",
    "\n",
    "    Handles non-linear relationships, high-dimensional data, and feature importance well — perfect for datasets like housing price prediction.\n",
    "\n",
    "##  Worst-Performing Model: Linear Regression \n",
    " Reasoning:\n",
    "\n",
    "    Highest MSE (0.5559) – largest squared error on test data.\n",
    "\n",
    "    Highest MAE (0.5332) – biggest average prediction error.\n",
    "\n",
    "    Lowest R² (0.5758) – explains only ~57.6% of variance in target.\n",
    "\n",
    "    Performs poorly here likely because:\n",
    "\n",
    "        Assumes a linear relationship between features and target.\n",
    "\n",
    "        Doesn't capture complex or non-linear interactions in housing features (like combinations of location, income, and rooms).\n",
    "\n",
    "        More sensitive to outliers and feature correlation.\n",
    "\n"
   ]
  },
  {
   "cell_type": "code",
   "execution_count": null,
   "id": "cf1c5b43-e6e1-42a1-ac11-d40af883b537",
   "metadata": {},
   "outputs": [],
   "source": []
  }
 ],
 "metadata": {
  "kernelspec": {
   "display_name": "Python 3 (ipykernel)",
   "language": "python",
   "name": "python3"
  },
  "language_info": {
   "codemirror_mode": {
    "name": "ipython",
    "version": 3
   },
   "file_extension": ".py",
   "mimetype": "text/x-python",
   "name": "python",
   "nbconvert_exporter": "python",
   "pygments_lexer": "ipython3",
   "version": "3.13.5"
  }
 },
 "nbformat": 4,
 "nbformat_minor": 5
}
